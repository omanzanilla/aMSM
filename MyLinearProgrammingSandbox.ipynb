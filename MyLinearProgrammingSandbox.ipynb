{
 "cells": [
  {
   "cell_type": "markdown",
   "metadata": {},
   "source": [
    "# Pruebas para resolver un PL con Pulp:\n",
    "Estoy sacando el ejemplo de: http://benalexkeen.com/linear-programming-with-python-and-pulp-part-2/"
   ]
  },
  {
   "cell_type": "code",
   "execution_count": 20,
   "metadata": {
    "collapsed": true
   },
   "outputs": [],
   "source": [
    "import pulp\n",
    "import numpy as np\n",
    "%matplotlib inline"
   ]
  },
  {
   "cell_type": "markdown",
   "metadata": {},
   "source": [
    "Creando el problema \"MiPL\" e indicando que es de maximización"
   ]
  },
  {
   "cell_type": "code",
   "execution_count": 239,
   "metadata": {
    "collapsed": true
   },
   "outputs": [],
   "source": [
    "mi_modelo_lp = pulp.LpProblem(\"Mi PL\", pulp.LpMaximize)"
   ]
  },
  {
   "cell_type": "markdown",
   "metadata": {},
   "source": [
    "El problema es\n",
    "Maximizar Z = 4x+3y\n",
    "\n",
    "Sujeto a:\n",
    "x≥0\n",
    "y≥2\n",
    "2y≤25–x\n",
    "4y≥2x–8\n",
    "y≤2x−5"
   ]
  },
  {
   "cell_type": "markdown",
   "metadata": {},
   "source": [
    "al definir las variables, de una vez indico su limite inferior"
   ]
  },
  {
   "cell_type": "code",
   "execution_count": 240,
   "metadata": {
    "collapsed": true
   },
   "outputs": [],
   "source": [
    "x = pulp.LpVariable('x', lowBound = 0, cat = 'Continuous')\n",
    "y = pulp.LpVariable('y', lowBound = 2, cat = 'Continuous')"
   ]
  },
  {
   "cell_type": "markdown",
   "metadata": {},
   "source": [
    "Se agrega la funcion objetivo al modelo usando el operador += , de igual forma se procede con las restricciones."
   ]
  },
  {
   "cell_type": "code",
   "execution_count": 241,
   "metadata": {
    "collapsed": true
   },
   "outputs": [],
   "source": [
    "# Funcion Objetivo\n",
    "mi_modelo_lp += + 4 * x + 3 * y, \"Z\"\n",
    "\n",
    "# Restricciones\n",
    "mi_modelo_lp += 2 * y <= 25 - x\n",
    "mi_modelo_lp += 4 * y >= 2 * x - 8\n",
    "mi_modelo_lp += y <= 2 * x - 5"
   ]
  },
  {
   "cell_type": "code",
   "execution_count": 238,
   "metadata": {
    "collapsed": false
   },
   "outputs": [
    {
     "data": {
      "text/plain": [
       "Mi PL:\n",
       "MAXIMIZE\n",
       "4*x + 3*y + 0\n",
       "SUBJECT TO\n",
       "_C1: x + 2 y <= 25\n",
       "\n",
       "_C2: - 2 x + 4 y >= -8\n",
       "\n",
       "_C3: - 2 x + y <= -5\n",
       "\n",
       "VARIABLES\n",
       "x Continuous\n",
       "2 <= y Continuous"
      ]
     },
     "execution_count": 238,
     "metadata": {},
     "output_type": "execute_result"
    }
   ],
   "source": [
    "mi_modelo_lp"
   ]
  },
  {
   "cell_type": "markdown",
   "metadata": {},
   "source": [
    "El solver por defecto es CBC, que viene con la instalacion de PuLP. COIN-OR es otro que probablemente resuelve la mayoria de los LPs"
   ]
  },
  {
   "cell_type": "code",
   "execution_count": 15,
   "metadata": {
    "collapsed": false
   },
   "outputs": [
    {
     "data": {
      "text/plain": [
       "1"
      ]
     },
     "execution_count": 15,
     "metadata": {},
     "output_type": "execute_result"
    }
   ],
   "source": [
    "mi_modelo_lp.solve()"
   ]
  },
  {
   "cell_type": "code",
   "execution_count": 16,
   "metadata": {
    "collapsed": false
   },
   "outputs": [
    {
     "data": {
      "text/plain": [
       "'Optimal'"
      ]
     },
     "execution_count": 16,
     "metadata": {},
     "output_type": "execute_result"
    }
   ],
   "source": [
    "pulp.LpStatus[mi_modelo_lp.status]"
   ]
  },
  {
   "cell_type": "markdown",
   "metadata": {},
   "source": [
    "Se puede usar el metodo varValue para recuperar los valores de las variables x y y, y la funcion pulp.value para ver el maximo alcanzado por la funcion objetivo"
   ]
  },
  {
   "cell_type": "code",
   "execution_count": 18,
   "metadata": {
    "collapsed": false
   },
   "outputs": [
    {
     "name": "stdout",
     "output_type": "stream",
     "text": [
      "x=14.5\n",
      "y=5.25\n"
     ]
    }
   ],
   "source": [
    "for variable in mi_modelo_lp.variables():\n",
    "    print \"{}={}\".format(variable.name, variable.varValue)"
   ]
  },
  {
   "cell_type": "code",
   "execution_count": 19,
   "metadata": {
    "collapsed": false
   },
   "outputs": [
    {
     "name": "stdout",
     "output_type": "stream",
     "text": [
      "73.75\n"
     ]
    }
   ],
   "source": [
    "print pulp.value(mi_modelo_lp.objective)"
   ]
  },
  {
   "cell_type": "markdown",
   "metadata": {},
   "source": [
    "# Ahora usando Matrices:\n",
    "Voy a definir un problema pequeño en forma matricial, de la forma:\n",
    "\n",
    "min c.x\n",
    "\n",
    "sujeto a:\n",
    "\n",
    "Ax >= b\n",
    "\n",
    "x>= 0\n",
    "\n",
    "Nota: use comandos de los scripts que se encuentran en:\n",
    "\n",
    "http://stackoverflow.com/questions/7728313/python-pulp-using-with-matrices\n",
    "\n",
    "https://github.com/AnnaNican/optimizers/blob/master/ReadBestsellers.ipynb\n",
    "\n",
    "https://scaron.info/blog/linear-programming-in-python-with-pulp.html\n",
    "\n",
    "http://stackoverflow.com/questions/22392497/how-to-add-a-new-row-to-an-empty-numpy-array\n",
    "\n",
    "http://stackoverflow.com/questions/568962/how-do-i-create-an-empty-array-matrix-in-numpy\n",
    "\n",
    "http://www.optimization-online.org/DB_FILE/2011/09/3178.pdf\n",
    "\n",
    "https://groups.google.com/forum/#!topic/pulp-or-discuss/JIlUGNUNy44"
   ]
  },
  {
   "cell_type": "code",
   "execution_count": 34,
   "metadata": {
    "collapsed": false
   },
   "outputs": [
    {
     "name": "stdout",
     "output_type": "stream",
     "text": [
      "Matriz de restricciones\n",
      "[[ 1  2]\n",
      " [-1  1]]\n"
     ]
    }
   ],
   "source": [
    "# Matriz de restricciones\n",
    "A = np.array([[1,2], [-1,1]])\n",
    "print('Matriz de restricciones')\n",
    "print(A)"
   ]
  },
  {
   "cell_type": "code",
   "execution_count": 209,
   "metadata": {
    "collapsed": false
   },
   "outputs": [
    {
     "name": "stdout",
     "output_type": "stream",
     "text": [
      "Vector de Costos\n",
      "[1 4]\n"
     ]
    }
   ],
   "source": [
    "# Vector de costos\n",
    "c = np.array([1, 4])\n",
    "print('Vector de Costos')\n",
    "print(c)"
   ]
  },
  {
   "cell_type": "code",
   "execution_count": 129,
   "metadata": {
    "collapsed": false
   },
   "outputs": [
    {
     "name": "stdout",
     "output_type": "stream",
     "text": [
      "Vector recurso\n",
      "[[1]\n",
      " [2]]\n"
     ]
    }
   ],
   "source": [
    "# Vector recurso\n",
    "b = np.array([[1],[2]])\n",
    "print('Vector recurso')\n",
    "print(b)"
   ]
  },
  {
   "cell_type": "code",
   "execution_count": 205,
   "metadata": {
    "collapsed": false
   },
   "outputs": [],
   "source": [
    "#Vector de variables (OPCION si no se usan \"dicts\")\n",
    "#x = []\n",
    "#for i in range(1,3):\n",
    "#    x.append(['x'+str(i)])\n",
    "#x = np.asarray(x)\n",
    "#print('Nombres de variables')    \n",
    "#print(x)"
   ]
  },
  {
   "cell_type": "markdown",
   "metadata": {},
   "source": [
    "Defino el problema como uno de minimizacion"
   ]
  },
  {
   "cell_type": "code",
   "execution_count": 299,
   "metadata": {
    "collapsed": true
   },
   "outputs": [],
   "source": [
    "lp_mat = pulp.LpProblem(\"LP_matricial\", pulp.LpMinimize)"
   ]
  },
  {
   "cell_type": "markdown",
   "metadata": {},
   "source": [
    "Defino las variables opcionalmente usando la funcionalidad de \"dicts\""
   ]
  },
  {
   "cell_type": "code",
   "execution_count": 300,
   "metadata": {
    "collapsed": false
   },
   "outputs": [
    {
     "name": "stdout",
     "output_type": "stream",
     "text": [
      "{0: x_0, 1: x_1}\n",
      "Total number of decision_variables: 2\n",
      "Array with Decision Variables:[x_0, x_1]\n"
     ]
    }
   ],
   "source": [
    "decision_variables = []\n",
    "x_min = 0\n",
    "x_max = None\n",
    "x = pulp.LpVariable.dicts(\"x\", range(2), x_min, x_max) #por defecto se asume continua\n",
    "print(x)\n",
    "for i in range(1,len(x)+1):\n",
    "    decision_variables.append(x[i-1])\n",
    "\n",
    "print (\"Total number of decision_variables: \" + str(len(decision_variables)))\n",
    "print (\"Array with Decision Variables:\" + str(decision_variables))"
   ]
  },
  {
   "cell_type": "markdown",
   "metadata": {},
   "source": [
    "Ahora defino la funcion objetivo, usando el vector \"c\""
   ]
  },
  {
   "cell_type": "code",
   "execution_count": 301,
   "metadata": {
    "collapsed": false
   },
   "outputs": [
    {
     "name": "stdout",
     "output_type": "stream",
     "text": [
      "Funcion Objetivo: Z= x_0 + 4*x_1\n"
     ]
    }
   ],
   "source": [
    "# Crear funcion objetivo\n",
    "fo = pulp.lpDot(c,decision_variables) #sumaproducto de c y las variables\n",
    "lp_mat += fo\n",
    "print(\"Funcion Objetivo: Z= \"+str(fo))\n"
   ]
  },
  {
   "cell_type": "markdown",
   "metadata": {},
   "source": [
    "Defino las restricciones usando la matriz A, las variables definidas y el vector b"
   ]
  },
  {
   "cell_type": "code",
   "execution_count": 302,
   "metadata": {
    "collapsed": false
   },
   "outputs": [
    {
     "name": "stdout",
     "output_type": "stream",
     "text": [
      "Restricciones:\n",
      "x_0 + 2*x_1 >= 1\n",
      "-x_0 + x_1 >= 2\n"
     ]
    }
   ],
   "source": [
    "# Crear restricciones\n",
    "print('Restricciones:')\n",
    "for coeff, rhs in zip(A, b):\n",
    "    print(pulp.lpDot(coeff, decision_variables) >= rhs)\n",
    "    lp_mat += pulp.lpDot(coeff, decision_variables) >= rhs\n"
   ]
  },
  {
   "cell_type": "code",
   "execution_count": 303,
   "metadata": {
    "collapsed": false
   },
   "outputs": [
    {
     "name": "stdout",
     "output_type": "stream",
     "text": [
      "Modelo cargado en PuLP:\n",
      "LP_matricial:\n",
      "MINIMIZE\n",
      "1*x_0 + 4*x_1 + 0\n",
      "SUBJECT TO\n",
      "_C1: x_0 + 2 x_1 >= 1\n",
      "\n",
      "_C2: - x_0 + x_1 >= 2\n",
      "\n",
      "VARIABLES\n",
      "x_0 Continuous\n",
      "x_1 Continuous\n",
      "\n"
     ]
    }
   ],
   "source": [
    "print('Modelo cargado en PuLP:')\n",
    "print(lp_mat)"
   ]
  },
  {
   "cell_type": "markdown",
   "metadata": {},
   "source": [
    "Guardamos el modelo en formato de modelo PuLP"
   ]
  },
  {
   "cell_type": "code",
   "execution_count": 306,
   "metadata": {
    "collapsed": false
   },
   "outputs": [],
   "source": [
    "lp_mat.writeLP(\"lp_mat.lp\" )"
   ]
  },
  {
   "cell_type": "markdown",
   "metadata": {},
   "source": [
    "Finalmente.... la optimizacion del modelo:"
   ]
  },
  {
   "cell_type": "code",
   "execution_count": 314,
   "metadata": {
    "collapsed": false
   },
   "outputs": [
    {
     "name": "stdout",
     "output_type": "stream",
     "text": [
      "('Status:', 'Optimal')\n",
      "('Optimal Solution to the problem: ', 8.0)\n",
      "Individual decision_variables: \n",
      "('x_0', '=', 0.0)\n",
      "('x_1', '=', 2.0)\n"
     ]
    }
   ],
   "source": [
    "#Correr el solver para optimizar el modelo\n",
    "optimization_result = lp_mat.solve()\n",
    "assert optimization_result == pulp.LpStatusOptimal\n",
    "print(\"Status:\", pulp.LpStatus[lp_mat.status])\n",
    "print(\"Optimal Solution to the problem: \", pulp.value(lp_mat.objective))\n",
    "print (\"Individual decision_variables: \")\n",
    "for v in lp_mat.variables():\n",
    "\tprint(v.name, \"=\", v.varValue)\n",
    "\n"
   ]
  }
 ],
 "metadata": {
  "kernelspec": {
   "display_name": "Python [Root]",
   "language": "python",
   "name": "Python [Root]"
  },
  "language_info": {
   "codemirror_mode": {
    "name": "ipython",
    "version": 2
   },
   "file_extension": ".py",
   "mimetype": "text/x-python",
   "name": "python",
   "nbconvert_exporter": "python",
   "pygments_lexer": "ipython2",
   "version": "2.7.12"
  }
 },
 "nbformat": 4,
 "nbformat_minor": 0
}
